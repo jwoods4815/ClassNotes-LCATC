{
  "nbformat": 4,
  "nbformat_minor": 0,
  "metadata": {
    "colab": {
      "provenance": []
    },
    "kernelspec": {
      "name": "python3",
      "display_name": "Python 3"
    }
  },
  "cells": [
    {
      "cell_type": "markdown",
      "metadata": {
        "id": "hpRGWOyAaczW"
      },
      "source": [
        "# **Welcome to Google Colab.**\n",
        "\n",
        "What you are seeing is a Google Colab Jupyter notebook. This notebook allows us to combine blocks of python code within a rich text document.\n",
        "\n",
        "Below this block is a Python statement. The word **print** tells the computer to print the text in the parentheses to the screen.\n",
        "\n",
        "When you move you mouse over the code you will see a play button appear. Pressing the play button will allow you to run the code in the block.\n",
        "\n",
        "Try to run the code below with the play button."
      ]
    },
    {
      "cell_type": "code",
      "metadata": {
        "id": "PBnf12KMaZ2F",
        "colab": {
          "base_uri": "https://localhost:8080/"
        },
        "outputId": "46b15748-e5e4-4c4e-818f-cafc85f7456f"
      },
      "source": [
        "print ('Hello \"Jason Woods\"')"
      ],
      "execution_count": null,
      "outputs": [
        {
          "output_type": "stream",
          "name": "stdout",
          "text": [
            "Hello \"Jason Woods\"\n"
          ]
        }
      ]
    },
    {
      "cell_type": "markdown",
      "metadata": {
        "id": "FKYh1jCXiEbk"
      },
      "source": [
        "You should have seen the word **Hello** appear under the code. This was the output of our simple program.\n",
        "\n",
        "Code in the codeblocks can be changed simply by typing. Try changing the code in the block above so that the program prints **Hello World**. Press the play button again to see the change in the output.\n",
        "\n",
        "\n",
        "---\n",
        "\n"
      ]
    },
    {
      "cell_type": "markdown",
      "metadata": {
        "id": "om7fI50MozwA"
      },
      "source": [
        "# **Getting input from the user**\n",
        "\n",
        "Let's talk about getting **input** into our program. If we type the word input into a code block it will allow our program to wait for a response from the keyboard. Look at the code below for an example.\n",
        "\n",
        "When you run the code below it will the program will run and wait for a response to the question.\n",
        "\n",
        "Type your name in the box and the program will finish and display the result."
      ]
    },
    {
      "cell_type": "code",
      "metadata": {
        "id": "QSvncJHIoXeb",
        "colab": {
          "base_uri": "https://localhost:8080/",
          "height": 54
        },
        "outputId": "c4848bfd-1da9-4694-ce4a-9691a7602b7e"
      },
      "source": [
        "input(\"What is 500 + 50? \")"
      ],
      "execution_count": null,
      "outputs": [
        {
          "name": "stdout",
          "output_type": "stream",
          "text": [
            "What is 500 + 50? idk\n"
          ]
        },
        {
          "output_type": "execute_result",
          "data": {
            "text/plain": [
              "'idk'"
            ],
            "application/vnd.google.colaboratory.intrinsic+json": {
              "type": "string"
            }
          },
          "metadata": {},
          "execution_count": 9
        }
      ]
    },
    {
      "cell_type": "markdown",
      "metadata": {
        "id": "OSq7kLJ2rVLI"
      },
      "source": [
        "# Working with Variables\n",
        "Variables allow us to use data in our programs. In the previous example we can use the result of out **input** statement as a variable we can use later in our program. The print statement can then show this variable on the screen. For this example the word **name** is used as the variable and the '**=**' sign is used to **assign** that variable to the result of the **input** statement."
      ]
    },
    {
      "cell_type": "code",
      "metadata": {
        "id": "KM7OrslIr7k_",
        "colab": {
          "base_uri": "https://localhost:8080/"
        },
        "outputId": "72d29692-41dd-4f76-8ccf-ccfea4511dd2"
      },
      "source": [
        "pookie = input(\"What is your name? \")\n",
        "print(\"Hello \" + pookie)"
      ],
      "execution_count": null,
      "outputs": [
        {
          "output_type": "stream",
          "name": "stdout",
          "text": [
            "What is your name? Noneya\n",
            "Hello Noneya\n"
          ]
        }
      ]
    },
    {
      "cell_type": "markdown",
      "metadata": {
        "id": "BwNR7Fdskm7L"
      },
      "source": [
        "*Adding together words is called concatenation*"
      ]
    },
    {
      "cell_type": "markdown",
      "metadata": {
        "id": "wxHFP1bztDMR"
      },
      "source": [
        "# Variable Types\n",
        "\n",
        "In programming, a variable can store different categories of data. These categories are known as types. Python uses 4 main data types.\n",
        "\n",
        "## Integers\n",
        "Integers are whole numbers like 10, 4032, 2, or -5.\n",
        "## Float\n",
        "Floats are numbers that contain decimal points like 4.5, 3.14, and 0.003.\n",
        "## Strings\n",
        "Strings are text, words, sentences.\n",
        "## Boolean\n",
        "Boolean values are **True** or **False**."
      ]
    },
    {
      "cell_type": "markdown",
      "metadata": {
        "id": "VWNGeoz0yMMQ"
      },
      "source": [
        "# Working with Integers\n",
        "Integers can be used in python for any mathmatical funtions. We use the following characters for simple math.\n",
        "* Addition: +\n",
        "* Subtraction: -\n",
        "* Division: /\n",
        "* Multiplication: *\n",
        "\n",
        "Run the code below for an example."
      ]
    },
    {
      "cell_type": "code",
      "metadata": {
        "id": "2yABkh8tytdk",
        "colab": {
          "base_uri": "https://localhost:8080/"
        },
        "outputId": "087e203a-e0a9-41d4-dbef-3f183b077d16"
      },
      "source": [
        "#Working with Integers\n",
        "\n",
        "#Addition\n",
        "ten_plus_five = 10 + 5\n",
        "\n",
        "#Subtraction\n",
        "sub = 10 - 5\n",
        "\n",
        "#Division with remainder\n",
        "float_division = 10 / 5\n",
        "\n",
        "#Floor division without remainder\n",
        "floor_division = 10 // 3\n",
        "\n",
        "#Multiplicaiton\n",
        "\n",
        "mult = 10 * 5\n",
        "\n",
        "print(\"This is addition of 10 plus 5: \" + str(ten_plus_five))\n",
        "\n",
        "print(sub)\n",
        "\n",
        "print(float_division)\n",
        "\n",
        "print(floor_division)\n",
        "\n",
        "print(mult)"
      ],
      "execution_count": null,
      "outputs": [
        {
          "output_type": "stream",
          "name": "stdout",
          "text": [
            "This is addition of 10 plus 5: 15\n",
            "5\n",
            "2.0\n",
            "3\n",
            "50\n"
          ]
        }
      ]
    },
    {
      "cell_type": "markdown",
      "metadata": {
        "id": "mdj4yy5Z00lr"
      },
      "source": [
        "# Issues with variable types and Type Conversion\n",
        "Python does a pretty good job of figuring out variable types on its own. There are instances were the wrong type will break a program. Run the code below for an example.\n",
        "\n"
      ]
    },
    {
      "cell_type": "code",
      "metadata": {
        "id": "RE-x_fzQ1XTs",
        "colab": {
          "base_uri": "https://localhost:8080/"
        },
        "outputId": "c4d610a9-3d4a-479d-de70-ec47cdf635b0"
      },
      "source": [
        "#Calculate my age\n",
        "yearOfBirth = input(\"What year were you born? \")\n",
        "\n",
        "myAge = 2025 - int(yearOfBirth)\n",
        "\n",
        "print(\"Your age is \" + str(myAge))\n",
        "\n"
      ],
      "execution_count": null,
      "outputs": [
        {
          "output_type": "stream",
          "name": "stdout",
          "text": [
            "What year were you born? 1980\n",
            "Your age is 45\n"
          ]
        }
      ]
    },
    {
      "cell_type": "markdown",
      "metadata": {
        "id": "WXW75Vab1yJw"
      },
      "source": [
        "When I enter my birth year 1980, the program runs and fails. In this case our input function returns a **String** type variable not an **Integer**. Only Integers can be used in math operations so our program fails.\n",
        "\n",
        "Fortunately, there are funtions available to us so we can easily convert one type to another. To do math operations we need to fix the type of our **yearOfBirth** variable. We can pass this variable through the **int()** function.\n",
        "\n",
        "Instead of:\n",
        "\n",
        " myAge = 2020 - yearOfBirth\n",
        "\n",
        " The correct code would be:\n",
        "\n",
        " myAge = 2020 - **int(** yearOfBirth **)**\n",
        "\n",
        " Try changing this in the code above.\n",
        "\n",
        " The End\n",
        " Turn this into the google classroom assignment.\n"
      ]
    }
  ]
}