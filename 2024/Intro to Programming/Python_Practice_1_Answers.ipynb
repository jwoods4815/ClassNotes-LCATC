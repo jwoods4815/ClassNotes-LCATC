{
  "nbformat": 4,
  "nbformat_minor": 0,
  "metadata": {
    "colab": {
      "provenance": []
    },
    "kernelspec": {
      "name": "python3",
      "display_name": "Python 3"
    },
    "language_info": {
      "name": "python"
    }
  },
  "cells": [
    {
      "cell_type": "markdown",
      "source": [
        "###Python Practice\n",
        "\n",
        "The purpose of this document is to practice/review some of the concepts we learned in the Python language. Look carefully at the exercises and make sure your output is consistent with the goals of the challenge."
      ],
      "metadata": {
        "id": "CIeHLs18neON"
      }
    },
    {
      "cell_type": "code",
      "execution_count": 6,
      "metadata": {
        "id": "iPP_5KDxndN2",
        "colab": {
          "base_uri": "https://localhost:8080/"
        },
        "outputId": "1ba616f5-f372-45f7-c4cf-f3990e54ba3f"
      },
      "outputs": [
        {
          "output_type": "stream",
          "name": "stdout",
          "text": [
            "Jason Woods\n"
          ]
        }
      ],
      "source": [
        "#Challenge #1\n",
        "#\n",
        "#Create 2 variables. One will hold your first name, the other will hold your last name\n",
        "#Output a string that will contain your full name like this \"First Last\"\n",
        "#\n",
        "#\n",
        "first = \"Jason\"\n",
        "last = \"Woods\"\n",
        "\n",
        "print(first, last)\n"
      ]
    },
    {
      "cell_type": "code",
      "source": [
        "#Challenge #2\n",
        "#\n",
        "#Assign your age to a new variable, output your age.\n",
        "#\n",
        "#Create an expression that will show what year you were born based on your age\n",
        "#Output the result of that expression\n",
        "#\n",
        "#\n",
        "my_age = 44\n",
        "\n",
        "year_of_birth = 2024 - 44\n",
        "\n",
        "print(year_of_birth)"
      ],
      "metadata": {
        "id": "AN4O4ncAp66m",
        "colab": {
          "base_uri": "https://localhost:8080/"
        },
        "outputId": "080ccd40-d9ab-4304-e558-a820fc369a0b"
      },
      "execution_count": 7,
      "outputs": [
        {
          "output_type": "stream",
          "name": "stdout",
          "text": [
            "1980\n"
          ]
        }
      ]
    },
    {
      "cell_type": "code",
      "source": [
        "#Challenge #3\n",
        "#\n",
        "#Ask the following questions and store in separate variables.\n",
        "#\n",
        "#Where do you currently attend school?\n",
        "#\n",
        "#Do you participate in any school activites? (If the answer is yes, ask what activity.)\n",
        "#\n",
        "#Are you a licensed driver? (If the answer is yes, then ask what car they drive.)\n",
        "#\n",
        "#Are you currently employed? (If the answer is yes, then ask who is the employer.)\n",
        "#\n",
        "#Are you planning on attending college? (If the answer is yes, then ask what school.)\n",
        "#\n",
        "\n",
        "current_school = input(\"Where do you currently attend school?\")\n",
        "\n",
        "school_activity = input(\"Do you participate in any school activites?\")\n",
        "\n",
        "if school_activity == \"yes\":\n",
        "  my_activity = input(\"What activity?\")\n",
        "else:\n",
        "  my_activity = \"none\"\n",
        "\n",
        "license = input(\"Are you a licensed driver?\")\n",
        "\n",
        "if license == \"yes\":\n",
        "  my_car = input(\"What car do you drive?\")\n",
        "else:\n",
        "  my_car = \"none\"\n",
        "\n",
        "employed = input(\"Are you currently employed?\")\n",
        "\n",
        "if employed == \"yes\":\n",
        "  my_employer = input(\"Who is the employer?\")\n",
        "else:\n",
        "  my_employer = \"none\"\n",
        "\n",
        "college = input(\"Are you planning on attending college?\")\n",
        "\n",
        "if college == \"yes\":\n",
        "  my_college = input(\"What school?\")\n",
        "else:\n",
        "  my_college = \"none\""
      ],
      "metadata": {
        "id": "3OzZRin7rjqh",
        "colab": {
          "base_uri": "https://localhost:8080/"
        },
        "outputId": "4274a594-7c85-438b-9ad5-071541b1c7ab"
      },
      "execution_count": 11,
      "outputs": [
        {
          "name": "stdout",
          "output_type": "stream",
          "text": [
            "Where do you currently attend school?lchs\n",
            "Do you participate in any school activites?yes\n",
            "What activity?basketball\n",
            "Are you a licensed driver?yes\n",
            "What car do you drive?ford\n",
            "Are you currently employed?yes\n",
            "Who is the employer?post office\n",
            "Are you planning on attending college?no\n"
          ]
        }
      ]
    },
    {
      "cell_type": "code",
      "source": [
        "#Challenge #4\n",
        "#\n",
        "#Store all the variables you have gathered in a list\n",
        "#\n",
        "#\n",
        "my_list = [first, last, my_age, year_of_birth, current_school, school_activity, my_activity, license, my_car, employed, my_employer, college, my_college]\n",
        "\n",
        "print(my_list)\n",
        "\n"
      ],
      "metadata": {
        "id": "tUQ18zS9r5ej",
        "colab": {
          "base_uri": "https://localhost:8080/"
        },
        "outputId": "ebf955f2-9fac-43a4-f383-738a6a01de19"
      },
      "execution_count": 12,
      "outputs": [
        {
          "output_type": "stream",
          "name": "stdout",
          "text": [
            "['Jason', 'Woods', 44, 1980, 'lchs', 'yes', 'basketball', 'yes', 'ford', 'yes', 'post office', 'no', 'none']\n"
          ]
        }
      ]
    },
    {
      "cell_type": "code",
      "source": [
        "#Challenge #5\n",
        "#\n",
        "#Using the variables in the list you created. Output a paragraph that would look like\n",
        "#a post or an email response containing the information about you.\n",
        "#HINT: Use an 'f' string for this\n",
        "#\n",
        "#Example:\n",
        "#\n",
        "#Hello,\n",
        "#   My name is _________ and I am currently a student at ________\n",
        "#I participate in _______ at my school. I plan on attending _______\n",
        "#after graduation , etc ,etc\n",
        "#\n",
        "\n",
        "about_me = f\"\"\"\n",
        "Hello, my name is {my_list[0]} {my_list[1]} and I am\n",
        "currently {my_list[2]} years old. I was born in {year_of_birth}.\n",
        "I currently attend {current_school}. I participate in\n",
        "{my_activity} at my school. I plan on\n",
        "attending {college} after graduation.\"\"\"\n",
        "\n",
        "print(about_me)\n",
        "\n"
      ],
      "metadata": {
        "id": "EiOk0PqGt393",
        "colab": {
          "base_uri": "https://localhost:8080/"
        },
        "outputId": "166c9c0b-fcbe-489f-e85b-859040858bf1"
      },
      "execution_count": 23,
      "outputs": [
        {
          "output_type": "stream",
          "name": "stdout",
          "text": [
            "\n",
            "Hello, my name is Jason Woods and I am \n",
            "currently 44 years old. I was born in 1980. \n",
            "I currently attend lchs. I participate in \n",
            "basketball at my school. I plan on \n",
            "attending no after graduation.\n"
          ]
        }
      ]
    }
  ]
}