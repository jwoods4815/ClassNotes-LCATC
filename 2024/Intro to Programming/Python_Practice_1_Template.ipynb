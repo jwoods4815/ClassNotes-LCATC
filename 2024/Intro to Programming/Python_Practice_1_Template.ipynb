{
  "nbformat": 4,
  "nbformat_minor": 0,
  "metadata": {
    "colab": {
      "provenance": []
    },
    "kernelspec": {
      "name": "python3",
      "display_name": "Python 3"
    },
    "language_info": {
      "name": "python"
    }
  },
  "cells": [
    {
      "cell_type": "markdown",
      "source": [
        "###Python Practice\n",
        "\n",
        "The purpose of this document is to practice/review some of the concepts we learned in the Python language. Look carefully at the exercises and make sure your output is consistent with the goals of the challenge."
      ],
      "metadata": {
        "id": "CIeHLs18neON"
      }
    },
    {
      "cell_type": "code",
      "execution_count": 1,
      "metadata": {
        "id": "iPP_5KDxndN2"
      },
      "outputs": [],
      "source": [
        "#Challenge #1\n",
        "#\n",
        "#Create 2 variables. One will hold your first name, the other will hold your last name\n",
        "#Output a string that will contain your full name like this \"First Last\"\n",
        "#\n",
        "#\n"
      ]
    },
    {
      "cell_type": "code",
      "source": [
        "#Challenge #2\n",
        "#\n",
        "#Assign your age to a new variable, output your age.\n",
        "#\n",
        "#Create an expression that will show what year you were born based on your age\n",
        "#Output the result of that expression\n",
        "#\n",
        "#\n"
      ],
      "metadata": {
        "id": "AN4O4ncAp66m"
      },
      "execution_count": 3,
      "outputs": []
    },
    {
      "cell_type": "code",
      "source": [
        "#Challenge #3\n",
        "#\n",
        "#Ask the following questions and store in separate variables.\n",
        "#\n",
        "#Where do you currently attend school?\n",
        "#\n",
        "#Do you participate in any school activites? (If the answer is yes, ask what activity.)\n",
        "#\n",
        "#Are you a licensed driver? (If the answer is yes, then ask what car they drive.)\n",
        "#\n",
        "#Are you currently employed? (If the answer is yes, then ask who is the employer.)\n",
        "#\n",
        "#Are you planning on attending college? (If the answer is yes, then ask what school.)\n",
        "#\n"
      ],
      "metadata": {
        "id": "3OzZRin7rjqh"
      },
      "execution_count": null,
      "outputs": []
    },
    {
      "cell_type": "code",
      "source": [
        "#Challenge #4\n",
        "#\n",
        "#Store all the variables you have gathered in a list\n",
        "#\n",
        "#"
      ],
      "metadata": {
        "id": "tUQ18zS9r5ej"
      },
      "execution_count": null,
      "outputs": []
    },
    {
      "cell_type": "code",
      "source": [
        "#Challenge #5\n",
        "#\n",
        "#Using the variables in the list you created. Output a paragraph that would look like\n",
        "#a post or an email response containing the information about you.\n",
        "#HINT: Use an 'f' string for this\n",
        "#\n",
        "#Example:\n",
        "#\n",
        "#Hello,\n",
        "#   My name is _________ and I am currently a student at ________\n",
        "#I participate in _______ at my school. I plan on attending _______\n",
        "#after graduation , etc ,etc\n",
        "#\n"
      ],
      "metadata": {
        "id": "EiOk0PqGt393"
      },
      "execution_count": 5,
      "outputs": []
    }
  ]
}