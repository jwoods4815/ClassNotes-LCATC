{
  "nbformat": 4,
  "nbformat_minor": 0,
  "metadata": {
    "colab": {
      "provenance": [],
      "authorship_tag": "ABX9TyNAsfd2vyO9OjDt4rrbahKE",
      "include_colab_link": true
    },
    "kernelspec": {
      "name": "python3",
      "display_name": "Python 3"
    },
    "language_info": {
      "name": "python"
    }
  },
  "cells": [
    {
      "cell_type": "markdown",
      "metadata": {
        "id": "view-in-github",
        "colab_type": "text"
      },
      "source": [
        "<a href=\"https://colab.research.google.com/github/jwoods4815/ClassNotes-LCATC/blob/main/Python_Part_1.ipynb\" target=\"_parent\"><img src=\"https://colab.research.google.com/assets/colab-badge.svg\" alt=\"Open In Colab\"/></a>"
      ]
    },
    {
      "cell_type": "markdown",
      "source": [
        "# Getting started with Python.\n",
        "### Variables (Numbers)\n",
        "\n"
      ],
      "metadata": {
        "id": "gJi3eyNuZkZv"
      }
    },
    {
      "cell_type": "code",
      "execution_count": 1,
      "metadata": {
        "id": "pNz-n-zGZc7x",
        "colab": {
          "base_uri": "https://localhost:8080/"
        },
        "outputId": "8ec9234e-dcbe-4925-f6a9-690390b8a552"
      },
      "outputs": [
        {
          "output_type": "stream",
          "name": "stdout",
          "text": [
            "350\n",
            "245\n",
            "This is the result of adding 350 and 245\n",
            "595\n",
            "350 minus 245 is: \n",
            "105\n",
            "350 mulitplied by 245 is: \n",
            "85750\n",
            "350 divided by 245 with float division: \n",
            "1.4285714285714286\n",
            "350 divided by 245 with floor division: \n",
            "1\n",
            "350 divided by 245 with modulo (remainder) division: \n",
            "105\n"
          ]
        }
      ],
      "source": [
        "# This is a comment\n",
        "# Starts with a hashtag\n",
        "# Ignored and not executed\n",
        "\n",
        "# To assign a variable you give it a name and use the assignment operator '=' and then value\n",
        "\n",
        "#Integers\n",
        "\n",
        "first_number = 350\n",
        "\n",
        "second_number = 245\n",
        "\n",
        "print (first_number)\n",
        "print (second_number)\n",
        "\n",
        "# Arithmetic Operators\n",
        "# + - * / // %\n",
        "\n",
        "#Addition\n",
        "the_sum = first_number + second_number\n",
        "\n",
        "print (\"This is the result of adding 350 and 245\")\n",
        "#print (first_number + second_number)\n",
        "print (the_sum)\n",
        "\n",
        "print (\"350 minus 245 is: \")\n",
        "print (first_number - second_number)\n",
        "\n",
        "print (\"350 mulitplied by 245 is: \")\n",
        "print (first_number * second_number)\n",
        "\n",
        "print (\"350 divided by 245 with float division: \")\n",
        "print (first_number / second_number)\n",
        "\n",
        "print (\"350 divided by 245 with floor division: \")\n",
        "print (first_number // second_number)\n",
        "\n",
        "print (\"350 divided by 245 with modulo (remainder) division: \")\n",
        "print (first_number % second_number)"
      ]
    },
    {
      "cell_type": "markdown",
      "source": [
        "###Variables (Strings)\n",
        "\n",
        "Strings contain words, phrases, text."
      ],
      "metadata": {
        "id": "D8ALecr08MJo"
      }
    },
    {
      "cell_type": "code",
      "source": [
        "first_string = \"This is some text. \\\"Quotes can be slashed out\\\"\"\n",
        "\n",
        "second_string = 'More Text, \"With the quotes\".'\n",
        "\n",
        "third_string = '''I found this information on the web.\n",
        "I'm paraphrasing here: While Python primarily uses\n",
        "the # symbol for single-line comments, triple quotes\n",
        "can be used to create multi-line comments.\n",
        "The words, etc inside these qoutes are strings\n",
        "that aren't assigned to a variable, so they don't\n",
        "have any effect on the program's execution.....\n",
        "So I suppose they are strings which are not\n",
        " assigned to any variables'''\n",
        "\n",
        "my_name = \"Jason\"\n",
        "my_age = 25\n",
        "\n",
        "fourth_string = f'My name is {my_name} and my age is {my_age}'\n",
        "\n",
        "print (first_string, second_string)\n",
        "print (third_string)\n",
        "print (fourth_string)"
      ],
      "metadata": {
        "colab": {
          "base_uri": "https://localhost:8080/"
        },
        "id": "jKhUp1Vy8UP-",
        "outputId": "c6b1af95-a048-4079-f660-417bb394d4c3"
      },
      "execution_count": 3,
      "outputs": [
        {
          "output_type": "stream",
          "name": "stdout",
          "text": [
            "This is some text. \"Quotes can be slashed out\" More Text, \"With the quotes\".\n",
            "I found this information on the web. \n",
            "I'm paraphrasing here: While Python primarily uses \n",
            "the # symbol for single-line comments, triple quotes \n",
            "can be used to create multi-line comments. \n",
            "The words, etc inside these qoutes are strings \n",
            "that aren't assigned to a variable, so they don't \n",
            "have any effect on the program's execution.....\n",
            "So I suppose they are strings which are not\n",
            " assigned to any variables\n",
            "My name is Jason and my age is 25\n"
          ]
        }
      ]
    },
    {
      "cell_type": "markdown",
      "source": [
        "Lists, dictionaries, tuples, and sets.\n",
        "\n"
      ],
      "metadata": {
        "id": "REdPjzQtFcZc"
      }
    },
    {
      "cell_type": "code",
      "source": [
        "#Lists\n",
        "\n",
        "groceries = [\"Milk\",\"eggs\", \"flour\", \"cocoa\",\"sugar\", 43, True, [\"Candy bars\", \"Chips\"]]\n",
        "\n",
        "print (groceries)\n",
        "\n",
        "#Dictionaries\n",
        "\n",
        "grocery_prices = {\n",
        "    \"milk\": 35,\n",
        "    \"eggs\": 95,\n",
        "    \"bread\": 120\n",
        "}\n",
        "\n",
        "print (grocery_prices)\n",
        "\n",
        "milk_price = f'These eggs is gonna cost {grocery_prices[\"eggs\"]} dollars!!!'\n",
        "\n",
        "print(milk_price)\n"
      ],
      "metadata": {
        "colab": {
          "base_uri": "https://localhost:8080/"
        },
        "id": "io9CCaX0F6rv",
        "outputId": "d11a08d5-9343-438b-f362-8ceac3e8519c"
      },
      "execution_count": 4,
      "outputs": [
        {
          "output_type": "stream",
          "name": "stdout",
          "text": [
            "['Milk', 'eggs', 'flour', 'cocoa', 'sugar', 43, True, ['Candy bars', 'Chips']]\n",
            "{'milk': 35, 'eggs': 95, 'bread': 120}\n",
            "These eggs is gonna cost 95 dollars!!!\n"
          ]
        }
      ]
    },
    {
      "cell_type": "markdown",
      "source": [
        "#Control Structures\n",
        "\n",
        "### IF statements"
      ],
      "metadata": {
        "id": "OcilZvknykUD"
      }
    },
    {
      "cell_type": "code",
      "source": [
        "#Comparison operators\n",
        "#\n",
        "# < > == !=\n",
        "\n",
        "big_number = 4\n",
        "\n",
        "small_number = -4\n",
        "\n",
        "\n",
        "if big_number > small_number:\n",
        "  print (\"Yes it is\")\n",
        "  print (f'{small_number} is not bigger than {big_number}')\n",
        "else:\n",
        "  print (\"No it ain't\")"
      ],
      "metadata": {
        "colab": {
          "base_uri": "https://localhost:8080/"
        },
        "id": "9bk6_J3UyrZP",
        "outputId": "dd46f391-752c-47ca-f047-4cc141547939"
      },
      "execution_count": 11,
      "outputs": [
        {
          "output_type": "stream",
          "name": "stdout",
          "text": [
            "Yes it is\n",
            "-4 is not bigger than 4\n"
          ]
        }
      ]
    },
    {
      "cell_type": "markdown",
      "source": [
        "#Loops\n",
        "\n",
        "A lot of data types in python are \"iterables\". Meaning the items in the data type can be looped one after the other."
      ],
      "metadata": {
        "id": "dDMXsj4z0gQO"
      }
    },
    {
      "cell_type": "code",
      "source": [
        "for item in groceries:\n",
        "  print(f'The item in the list \"{item}\" is the {type(item)} data type')"
      ],
      "metadata": {
        "colab": {
          "base_uri": "https://localhost:8080/"
        },
        "id": "syazI1g20s-5",
        "outputId": "823e7289-1a8f-4490-9966-9da07497e54d"
      },
      "execution_count": 15,
      "outputs": [
        {
          "output_type": "stream",
          "name": "stdout",
          "text": [
            "The item in the list \"Milk\" is the <class 'str'> data type\n",
            "The item in the list \"eggs\" is the <class 'str'> data type\n",
            "The item in the list \"flour\" is the <class 'str'> data type\n",
            "The item in the list \"cocoa\" is the <class 'str'> data type\n",
            "The item in the list \"sugar\" is the <class 'str'> data type\n",
            "The item in the list \"43\" is the <class 'int'> data type\n",
            "The item in the list \"True\" is the <class 'bool'> data type\n",
            "The item in the list \"['Candy bars', 'Chips']\" is the <class 'list'> data type\n"
          ]
        }
      ]
    }
  ]
}