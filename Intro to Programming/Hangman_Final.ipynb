{
  "nbformat": 4,
  "nbformat_minor": 0,
  "metadata": {
    "colab": {
      "provenance": []
    },
    "kernelspec": {
      "name": "python3",
      "display_name": "Python 3"
    },
    "language_info": {
      "name": "python"
    }
  },
  "cells": [
    {
      "cell_type": "markdown",
      "source": [
        "#Hangman Final\n"
      ],
      "metadata": {
        "id": "UZD8LzPC7_SH"
      }
    },
    {
      "cell_type": "markdown",
      "source": [
        "#The Import Function\n",
        "Some functions have to be imported into a python program for additional functionality."
      ],
      "metadata": {
        "id": "xDoTIpKX8Hnn"
      }
    },
    {
      "cell_type": "code",
      "source": [
        "import random #We will use this library to choose a random word from the list"
      ],
      "metadata": {
        "id": "4X3nXbGG8UOM"
      },
      "execution_count": null,
      "outputs": []
    },
    {
      "cell_type": "code",
      "execution_count": null,
      "metadata": {
        "id": "GcOWxTR6iylF",
        "colab": {
          "base_uri": "https://localhost:8080/"
        },
        "outputId": "2cd00469-5998-4ad3-fee6-daeb105365d1"
      },
      "outputs": [
        {
          "output_type": "stream",
          "name": "stdout",
          "text": [
            "elephant\n"
          ]
        }
      ],
      "source": [
        "\n",
        "#Word list to use in the game\n",
        "\n",
        "word_list = [\"planets\",\"refrigerator\",\"bicycle\",\"cardboard\",\"telephone\",\"cabinet\",\"tiger\",\"elephant\",\"penguin\"]\n",
        "\n",
        "#Use the random library with the 'choice' method to pick a random word\n",
        "random_word = random.choice(word_list)\n",
        "\n",
        "print(random_word)\n"
      ]
    },
    {
      "cell_type": "markdown",
      "source": [
        "#Changing the way the chosen word is displayed.\n",
        "We want the word to be displayed as a series of blanks. The best way to display this is probably by using the underscore character in place of the letter.\n",
        "\n",
        "To do this we need to understand something about the string data type. The string data type is \"*iterable*\". Just like lists we can get the length of the string, loop through each element, and perform functions on those elements.\n",
        "\n",
        "Python gives each character in the string an index number starting with zero. You can also start from the end of the string by using negative integers starting with one.\n",
        "\n",
        "String:  P  y  t  h  o  n\n",
        "\n",
        "Index:   0  1  2  3  4  5\n",
        "\n",
        "Negative:-6 -5 -4 -3 -2 -1\n",
        "\n",
        "In this example using the string \"Python\". If we wanted to get the 3rd letter of the string in our program we would type:\n",
        "\n",
        "\n",
        "\n",
        "```\n",
        "the_string[2]\n",
        "```\n",
        "\n",
        "\n",
        "\n",
        "---\n",
        "References:\n",
        "\n",
        "https://www.w3schools.com/python/python_strings.asp\n",
        "\n",
        "https://www.w3schools.com/python/python_strings_slicing.asp\n"
      ],
      "metadata": {
        "id": "HnjXqLCx87HM"
      }
    },
    {
      "cell_type": "code",
      "source": [
        "#example using our word\n",
        "print(f'The word chosen is: {random_word}')\n",
        "\n",
        "print(\"Loop through each character and show it on the screen\")\n",
        "#loop through each character in the word\n",
        "for a_letter in random_word:\n",
        "  #print each letter\n",
        "  print(a_letter)\n",
        "\n",
        "print(\"-\" * 100)\n",
        "print(\"Now let's show each letter as a blank\")\n",
        "\n",
        "#loop through each character and show as a blank (using the underscore character)\n",
        "\n",
        "for a_letter in random_word:\n",
        "  print(\"_\")\n",
        "\n",
        "print(\"-\" * 100)\n",
        "print(\"We don't want seperate lines for each blank, so let's fix the format\")\n",
        "\n",
        "#show each character as an underscore but without a new line\n",
        "for a_letter in random_word:\n",
        "  print(\"_\", end=\" \")\n",
        "\n",
        "\n",
        "\"\"\"Using the optional \"end=\" after the variables in the print function\n",
        "   lets us use a space instead of a new line after each letter in the word\"\"\"\n",
        "\n"
      ],
      "metadata": {
        "colab": {
          "base_uri": "https://localhost:8080/",
          "height": 434
        },
        "id": "902fcaIp81n8",
        "outputId": "cba56632-55f0-40e4-d117-430e9b810e6b"
      },
      "execution_count": null,
      "outputs": [
        {
          "output_type": "stream",
          "name": "stdout",
          "text": [
            "The word chosen is: elephant\n",
            "Loop through each character and show it on the screen\n",
            "e\n",
            "l\n",
            "e\n",
            "p\n",
            "h\n",
            "a\n",
            "n\n",
            "t\n",
            "----------------------------------------------------------------------------------------------------\n",
            "Now let's show each letter as a blank\n",
            "_\n",
            "_\n",
            "_\n",
            "_\n",
            "_\n",
            "_\n",
            "_\n",
            "_\n",
            "----------------------------------------------------------------------------------------------------\n",
            "We don't want seperate lines for each blank, so let's fix the format\n",
            "_ _ _ _ _ _ _ _ "
          ]
        },
        {
          "output_type": "execute_result",
          "data": {
            "text/plain": [
              "'Using the optional \"end=\" after the variables in the print function \\n   lets us use a space instead of a new line after each letter in the word'"
            ],
            "application/vnd.google.colaboratory.intrinsic+json": {
              "type": "string"
            }
          },
          "metadata": {},
          "execution_count": 13
        }
      ]
    },
    {
      "cell_type": "markdown",
      "source": [
        "#Guessing the letters\n",
        "\n",
        "This will be the main playable part of the game. The player will guess letters and our program will have to figure out if that letter is in the word.\n",
        "\n",
        "We can us the \"in\" keyword to check if that is true.\n"
      ],
      "metadata": {
        "id": "p9OFCrTSD4rV"
      }
    },
    {
      "cell_type": "code",
      "source": [
        "#ask the user to guess a letter and assign it to a variable\n",
        "the_guess = input(\"Guess a letter: \")\n",
        "\n",
        "#check if the letter is in the word\n",
        "if the_guess in random_word:\n",
        "  print(\"That letter is in the word\")\n",
        "else:\n",
        "  print(\"That letter is not in the word\")\n"
      ],
      "metadata": {
        "colab": {
          "base_uri": "https://localhost:8080/"
        },
        "id": "OmIPlFvSFt4K",
        "outputId": "d70f1eb2-e7c5-441a-e016-fbd64652583d"
      },
      "execution_count": null,
      "outputs": [
        {
          "output_type": "stream",
          "name": "stdout",
          "text": [
            "Guess a letter: f\n",
            "That letter is not in the word\n"
          ]
        }
      ]
    },
    {
      "cell_type": "markdown",
      "source": [
        "#Displaying the letter to the player in the right place\n",
        "If the letter is in the word we want to show the player where exactly that word appears. If it is not in the word it will be helpful to the player to keep track of incorrect guesses. We need to combine our code from the previous steps."
      ],
      "metadata": {
        "id": "ozMQm5DzGWxR"
      }
    },
    {
      "cell_type": "code",
      "source": [
        "#show each character as an underscore but without a new line\n",
        "for a_letter in random_word:\n",
        "  print(\"_\", end=\" \")\n",
        "\n",
        "\n",
        "#One more print for a new line\n",
        "print(\" \")\n",
        "\n",
        "the_guess = input(\"Guess a letter: \")\n",
        "\n",
        "#check if the letter is in the word\n",
        "if the_guess in random_word:\n",
        "  print(\"That letter is in the word\")\n",
        "  #we will assign the good_guess variable to the the_guess so we can check it\n",
        "  good_guess = the_guess\n",
        "else:\n",
        "  print(\"That letter is not in the word\")\n",
        "\n",
        "#this time we will check if our letter is a good guess and show the letter\n",
        "#instead of an underscore\n",
        "\n",
        "for a_letter in random_word:\n",
        "  if good_guess == a_letter:\n",
        "    print(good_guess, end=\" \")\n",
        "  else:\n",
        "    print(\"_\", end=\" \")"
      ],
      "metadata": {
        "colab": {
          "base_uri": "https://localhost:8080/"
        },
        "id": "0pBZNn3JHovO",
        "outputId": "59683bb6-113b-47fd-9454-1f5d88ab551b"
      },
      "execution_count": null,
      "outputs": [
        {
          "output_type": "stream",
          "name": "stdout",
          "text": [
            "_ _ _ _ _ _ _ _  \n",
            "Guess a letter: f\n",
            "That letter is not in the word\n",
            "_ _ _ _ _ a _ _ "
          ]
        }
      ]
    },
    {
      "cell_type": "markdown",
      "source": [
        "#Loops and Functions\n",
        "We have reached the point where we need to start thinking about the parts of our program that have repeated statements or actions that will be performed multiple times over and over.\n",
        "\n",
        "For example: The player will have six guesses to possibly win, they should also be able to guess the whole word and the end of those guess. We will check and keep track of their guess at least six times. Do we intend to copy and paste the code over and over again six or seven times, manually changing the name of the variables to reflect each guess. ie: *good_guess1*, *good_guess2*, etc\n",
        "\n",
        "This is not optimal for several reasons:\n",
        "1. It's going to be very confusing to read\n",
        "2. This will make the code hard to maintin. If we have to change something in the way the code functions we will have to do it multiple times.\n",
        "3. It will make the program much larger and more complex than neccessary.\n",
        "\n",
        "We have already used loops to display the letters\n",
        "\n",
        "\n",
        "```\n",
        "for a_letter in random_word:\n",
        "   print(a_letter)\n",
        "```\n",
        "as opposed to\n",
        "```\n",
        "print(random_word[0])\n",
        "print(random_word[1])\n",
        "print(random_word[2])\n",
        "print(random_word[3])\n",
        "print(random_word[4])\n",
        "print(random_word[5])\n",
        "print(random_word[6])\n",
        "print(random_word[7])\n",
        "```\n",
        "The code will produce the same result. But the first example is much better in many ways.\n",
        "\n",
        "We basically have all the steps we need to build the game. Let's put some of our repeatable steps in functions and loops and finish the program."
      ],
      "metadata": {
        "id": "HloWm3YMJ_J0"
      }
    },
    {
      "cell_type": "markdown",
      "source": [
        "###Setup the game and create a function that will automate displaying the letters\n",
        "\n",
        "In Python we create a function by starting the line with the letters \"*def*\". This is short for the word \"*define*\"\n",
        "\n",
        "Statements inside the function are indented from the left side.\n",
        "\n",
        "\n",
        "\n",
        "```\n",
        "def function_name():\n",
        "  do something\n",
        "  do something else\n",
        "  if some test is true\n",
        "    do this\n",
        "  else:\n",
        "    do something else\n",
        "\n",
        "```\n",
        "\n",
        "\n",
        "In our previous code, we iterated through the string a ran a print statement for each \"_\" or guessed letter.\n",
        "\n",
        "In this code we are going to be a little more concise and learn a couple of shortcuts.\n",
        "\n",
        "To simplify the code, we will use a single string and add characters to it as needed. Consider the code below."
      ],
      "metadata": {
        "id": "165IXCSeu21z"
      }
    },
    {
      "cell_type": "code",
      "source": [
        "#Create and empty string variable\n",
        "#\n",
        "some_string = \"\"\n",
        "#Add a letter to the string\n",
        "\n",
        "some_string = some_string + \"a\"\n",
        "\n",
        "print(\"Adding a letter:--> \" + some_string)\n",
        "\n",
        "\n",
        "\n",
        "#Add a bunch of letters to the string\n",
        "some_string = \"\"\n",
        "\n",
        "for item in \"abcdefghijklmnopqrstuvwxyz\":\n",
        "  some_string = some_string + item\n",
        "\n",
        "print(\"The longway:---> \" + some_string)\n",
        "\n",
        "#Shortcut way\n",
        "some_string = \"\"\n",
        "\n",
        "for item in \"abcdefghijklmnopqrstuvwxyz\":\n",
        "  some_string += item\n",
        "\n",
        "print(\"The shortcut:---> \" + some_string)"
      ],
      "metadata": {
        "colab": {
          "base_uri": "https://localhost:8080/"
        },
        "id": "iHX5n1_I1Ryq",
        "outputId": "6d06b255-8736-4acb-cf2e-a2bc341f3007"
      },
      "execution_count": null,
      "outputs": [
        {
          "output_type": "stream",
          "name": "stdout",
          "text": [
            "Adding a letter:--> a\n",
            "The longway:---> abcdefghijklmnopqrstuvwxyz\n",
            "The shortcut:---> abcdefghijklmnopqrstuvwxyz\n"
          ]
        }
      ]
    },
    {
      "cell_type": "markdown",
      "source": [
        "We can use this trick to build a string to output instead of looping through the word over and over.\n",
        "\n"
      ],
      "metadata": {
        "id": "7iuSXv5x4MyQ"
      }
    },
    {
      "cell_type": "code",
      "source": [
        "display_string = \"\"\n",
        "\n",
        "for a_letter in \"ChosenWord\":\n",
        "  display_string += a_letter + \" \"\n",
        "\n",
        "print(display_string)"
      ],
      "metadata": {
        "colab": {
          "base_uri": "https://localhost:8080/"
        },
        "id": "bnn9iQNJ4bhO",
        "outputId": "2ebc4f12-7881-4cae-8f8d-af6928d13db3"
      },
      "execution_count": null,
      "outputs": [
        {
          "output_type": "stream",
          "name": "stdout",
          "text": [
            "C h o s e n W o r d \n"
          ]
        }
      ]
    },
    {
      "cell_type": "markdown",
      "source": [
        "Now let's add some user input, use an **if** statement to check if the letter is a good guess, and loop the results to see how it works.\n",
        "We will use a while loop that will loop forever until a certain number is reached.\n",
        "\n",
        "\n"
      ],
      "metadata": {
        "id": "s-cjA3z46ISj"
      }
    },
    {
      "cell_type": "code",
      "source": [
        "some_word = \"python\"\n",
        "\n",
        "attempts = 6\n",
        "\n",
        "while attempts > 0:\n",
        "\n",
        "  the_guess = input(\"Guess a letter: \")\n",
        "\n",
        "  display_string = \"\"\n",
        "  for a_letter in some_word:\n",
        "    if the_guess == a_letter:\n",
        "      display_string += the_guess + \" \"\n",
        "    else:\n",
        "      display_string += \"_ \"\n",
        "\n",
        "  print(display_string)\n",
        "\n",
        "  attempts -= 1 #Like using the string, this is a shortcut for attempts = attempts - 1\n"
      ],
      "metadata": {
        "colab": {
          "base_uri": "https://localhost:8080/"
        },
        "id": "MrBXibBb6n0K",
        "outputId": "1c9882c1-65bf-4c21-90ed-19c55195e927"
      },
      "execution_count": null,
      "outputs": [
        {
          "output_type": "stream",
          "name": "stdout",
          "text": [
            "Guess a letter: y\n",
            "_ y _ _ _ _ \n",
            "Guess a letter: t\n",
            "_ _ t _ _ _ \n",
            "Guess a letter: h\n",
            "_ _ _ h _ _ \n",
            "Guess a letter: o\n",
            "_ _ _ _ o _ \n",
            "Guess a letter: n\n",
            "_ _ _ _ _ n \n",
            "Guess a letter: P\n",
            "_ _ _ _ _ _ \n"
          ]
        }
      ]
    },
    {
      "cell_type": "code",
      "source": [
        "import random\n",
        "\n",
        "\n",
        "\n",
        "\n",
        "\n",
        "def display_word(word_to_guess, guessed_letters):\n",
        "\n",
        "  display_string = \"\"\n",
        "\n",
        "  for a_letter in word_to_guess:\n",
        "\n",
        "    if a_letter in guessed_letters:\n",
        "\n",
        "      display_string += a_letter + \" \"\n",
        "\n",
        "    else:\n",
        "\n",
        "      display_string += \"_ \"\n",
        "\n",
        "  return display_string.strip()\n",
        "\n",
        "\n"
      ],
      "metadata": {
        "id": "sdLvbFwKgv5-"
      },
      "execution_count": null,
      "outputs": []
    },
    {
      "cell_type": "code",
      "source": [
        "def hangman():\n",
        "\n",
        "  #Setup base game variables\n",
        "  attempts = 6 #The number of guess attempts per word\n",
        "\n",
        "  word_list = [\"planets\",\"refrigerator\",\"bicycle\",\"cardboard\",\"telephone\",\"cabinet\",\"tiger\",\"elephant\",\"penguin\"]\n",
        "\n",
        "  the_word = random.choice(word_list) #pick a random word\n",
        "\n",
        "  guessed_letters = set() #create an empty set for guesses\n",
        "\n",
        "\n",
        "\n",
        "  print(\"Debug: \" + the_word)\n",
        "\n",
        "  #Loop for guessing letters\n",
        "  #\n",
        "  while attempts > 0:\n",
        "\n",
        "    print(\"Attempts remaining: \" + str(attempts))\n",
        "\n",
        "\n",
        "    the_guess = input(\"Guess a letter: \")\n",
        "\n",
        "    guessed_letters.add(the_guess)\n",
        "\n",
        "    print(display_word(the_word, guessed_letters))\n",
        "\n",
        "    attempts -= 1\n",
        "\n",
        "  #End of the loop, one final guess\n",
        "  #\n",
        "  final_guess = input(\"Guess the word: \")\n",
        "\n",
        "  if final_guess == the_word:\n",
        "\n",
        "    print(\"You win!\")\n",
        "\n",
        "  else:\n",
        "\n",
        "    print(\"You lose!\")\n",
        "\n",
        "  #Choice to play again\n",
        "  #\n",
        "  play_again = input(\"Do you want to play again? (y/n) \")\n",
        "\n",
        "  if play_again == \"y\":\n",
        "\n",
        "    hangman()\n",
        "\n",
        "  else:\n",
        "\n",
        "    print(\"Thanks for playing!\")"
      ],
      "metadata": {
        "id": "pp_j0UVmi_Sy"
      },
      "execution_count": null,
      "outputs": []
    },
    {
      "cell_type": "code",
      "source": [
        "hangman()"
      ],
      "metadata": {
        "colab": {
          "base_uri": "https://localhost:8080/"
        },
        "id": "Vp70S9min610",
        "outputId": "cc3e7717-231c-4ea9-ce6b-24be9afc9089"
      },
      "execution_count": null,
      "outputs": [
        {
          "output_type": "stream",
          "name": "stdout",
          "text": [
            "Debug: penguin 6 set()\n",
            "Attempts remaining: 6\n",
            "Guess a letter: g\n",
            "_ _ _ g _ _ _\n",
            "Attempts remaining: 5\n",
            "Guess a letter: r\n",
            "_ _ _ g _ _ _\n",
            "Attempts remaining: 4\n",
            "Guess a letter: s \n",
            "_ _ _ g _ _ _\n",
            "Attempts remaining: 3\n",
            "Guess a letter: t\n",
            "_ _ _ g _ _ _\n",
            "Attempts remaining: 2\n",
            "Guess a letter: l\n",
            "_ _ _ g _ _ _\n",
            "Attempts remaining: 1\n",
            "Guess a letter: n\n",
            "_ _ n g _ _ n\n",
            "Guess the word: e\n",
            "You lose!\n",
            "Do you want to play again? (y/n) n\n",
            "Thanks for playing!\n"
          ]
        }
      ]
    }
  ]
}