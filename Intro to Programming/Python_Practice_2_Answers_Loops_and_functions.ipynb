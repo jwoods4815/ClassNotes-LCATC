{
  "nbformat": 4,
  "nbformat_minor": 0,
  "metadata": {
    "colab": {
      "provenance": []
    },
    "kernelspec": {
      "name": "python3",
      "display_name": "Python 3"
    },
    "language_info": {
      "name": "python"
    }
  },
  "cells": [
    {
      "cell_type": "markdown",
      "source": [
        "###Practicing loops and functions\n",
        "Loops and functions are essential for reusing code. This saves time, memory, and improves maintenance and readability. Any case were you are repeating a task you should be using loops and functions."
      ],
      "metadata": {
        "id": "b3CT4Mhi6IKs"
      }
    },
    {
      "cell_type": "code",
      "execution_count": null,
      "metadata": {
        "colab": {
          "base_uri": "https://localhost:8080/"
        },
        "id": "1LJ74ekv5zR0",
        "outputId": "cea8a08f-1b63-4f35-d87e-d4700da3113d"
      },
      "outputs": [
        {
          "output_type": "stream",
          "name": "stdout",
          "text": [
            "1\n",
            "2\n",
            "3\n",
            "4\n",
            "5\n",
            "6\n",
            "7\n",
            "8\n",
            "9\n",
            "10\n",
            "430\n",
            "432\n",
            "434\n",
            "436\n",
            "438\n",
            "440\n",
            "442\n",
            "444\n",
            "446\n",
            "448\n",
            "450\n",
            "452\n",
            "454\n",
            "456\n",
            "458\n",
            "460\n",
            "462\n",
            "464\n",
            "466\n",
            "468\n",
            "470\n",
            "472\n",
            "474\n",
            "476\n",
            "478\n",
            "480\n",
            "482\n",
            "484\n",
            "486\n",
            "488\n",
            "490\n",
            "492\n",
            "494\n",
            "496\n",
            "498\n",
            "500\n",
            "502\n",
            "504\n",
            "506\n",
            "508\n",
            "510\n",
            "1231\n",
            "1233\n",
            "1235\n",
            "1237\n",
            "1239\n",
            "1241\n",
            "1243\n",
            "1245\n",
            "1247\n",
            "1249\n",
            "1251\n",
            "1253\n",
            "1255\n",
            "1257\n",
            "1259\n",
            "1261\n",
            "1263\n",
            "1265\n",
            "1267\n",
            "1269\n",
            "1271\n",
            "1273\n",
            "1275\n",
            "1277\n",
            "1279\n",
            "1281\n",
            "1283\n",
            "1285\n",
            "1287\n",
            "1289\n",
            "1291\n",
            "1293\n",
            "1295\n",
            "1297\n",
            "1299\n"
          ]
        }
      ],
      "source": [
        "#Use a loop to print the numbers 1-10\n",
        "\n",
        "#Now print the numbers 1-100\n",
        "\n",
        "#Now print only the even numbers between 430 and 512\n",
        "\n",
        "#Now print only the odd numbers from 1230 to 1300\n",
        "\n",
        "for a_number in range(1,11):\n",
        "    print(a_number)\n",
        "\n",
        "for a_number in range(430,512):\n",
        "    if a_number % 2 == 0:\n",
        "        print(a_number)\n",
        "\n",
        "for a_number in range(1230,1300):\n",
        "    if a_number % 2 == 1:\n",
        "        print(a_number)"
      ]
    },
    {
      "cell_type": "code",
      "source": [
        "#Create 2 lists. One list should contain only odd numbers and the other even numbers\n",
        "#\n",
        "#Look at the numbers 1 - 100 and add each number to the correct list\n",
        "#\n",
        "odd_numbers = []\n",
        "even_numbers = []\n",
        "\n",
        "for a_number in range(1,101):\n",
        "    if a_number % 2 == 0:\n",
        "        even_numbers.append(a_number)\n",
        "    else:\n",
        "        odd_numbers.append(a_number)"
      ],
      "metadata": {
        "id": "gF1ItN_o6Ho2"
      },
      "execution_count": null,
      "outputs": []
    },
    {
      "cell_type": "code",
      "source": [
        "#Use a loop that will loop forever until the user types 'quit'\n",
        "\n",
        "the_command = ''\n",
        "\n",
        "while the_command != 'quit':\n",
        "    the_command = input('Enter a command or type quit to exit: ')"
      ],
      "metadata": {
        "id": "JHHMYhY_QDgI",
        "colab": {
          "base_uri": "https://localhost:8080/"
        },
        "outputId": "e7b88cf3-214b-44e9-8879-d60e34817430"
      },
      "execution_count": 2,
      "outputs": [
        {
          "name": "stdout",
          "output_type": "stream",
          "text": [
            "Enter a command or type quit to exit: blah\n",
            "Enter a command or type quit to exit: blah\n",
            "Enter a command or type quit to exit: blah\n",
            "Enter a command or type quit to exit: quit\n"
          ]
        }
      ]
    },
    {
      "cell_type": "code",
      "source": [
        "#Create a simple calculator\n",
        "#\n",
        "#1. Allow the user to enter a number\n",
        "#2. Let the user choose an operation\n",
        "#3. Allow the user to enter a second number\n",
        "#4. Calculate and show the result\n",
        "#5. Allow the user just to type the word 'quit' to exit the program\n",
        "\n",
        "number_one = input('Enter a number: ')\n",
        "operation = input('Enter an operation: ')\n",
        "number_two = input('Enter another number: ')\n",
        "\n",
        "if operation == '+':\n",
        "    result = int(number_one) + int(number_two)\n",
        "elif operation == '-':\n",
        "    result = int(number_one) - int(number_two)\n",
        "elif operation == '*':\n",
        "    result = int(number_one) * int(number_two)\n",
        "elif operation == '/':\n",
        "    result = int(number_one) / int(number_two)\n",
        "else:\n",
        "    print('Invalid operation')\n",
        "\n",
        "print(result)\n"
      ],
      "metadata": {
        "id": "AZl1dD_fPnvO",
        "colab": {
          "base_uri": "https://localhost:8080/"
        },
        "outputId": "6853997a-9362-4063-8a5c-51fdeebc6047"
      },
      "execution_count": 4,
      "outputs": [
        {
          "output_type": "stream",
          "name": "stdout",
          "text": [
            "Enter a number: 5\n",
            "Enter an operation: +\n",
            "Enter another number: 7\n",
            "12\n"
          ]
        }
      ]
    }
  ]
}