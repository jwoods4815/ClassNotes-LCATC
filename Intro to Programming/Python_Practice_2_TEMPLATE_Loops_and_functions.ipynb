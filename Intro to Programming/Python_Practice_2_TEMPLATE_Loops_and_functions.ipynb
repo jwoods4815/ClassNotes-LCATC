{
  "nbformat": 4,
  "nbformat_minor": 0,
  "metadata": {
    "colab": {
      "provenance": []
    },
    "kernelspec": {
      "name": "python3",
      "display_name": "Python 3"
    },
    "language_info": {
      "name": "python"
    }
  },
  "cells": [
    {
      "cell_type": "markdown",
      "source": [
        "###Practicing loops and functions\n",
        "Loops and functions are essential for reusing code. This saves time, memory, and improves maintenance and readability. Any case were you are repeating a task you should be using loops and functions."
      ],
      "metadata": {
        "id": "b3CT4Mhi6IKs"
      }
    },
    {
      "cell_type": "code",
      "execution_count": null,
      "metadata": {
        "id": "1LJ74ekv5zR0"
      },
      "outputs": [],
      "source": [
        "#Use a loop to print the numbers 1-10\n",
        "\n",
        "#Now print the numbers 1-100\n",
        "\n",
        "#Now print only the even numbers between 430 and 1487\n",
        "\n",
        "#Now print only the odd numbers from 1230 to 3586"
      ]
    },
    {
      "cell_type": "code",
      "source": [
        "#Create 2 lists. One list should contain only odd numbers and the other even numbers\n",
        "#\n",
        "#Look at the numbers 1 - 100 and add each number to the correct list\n",
        "#\n"
      ],
      "metadata": {
        "id": "gF1ItN_o6Ho2"
      },
      "execution_count": null,
      "outputs": []
    },
    {
      "cell_type": "code",
      "source": [
        "#Use a loop that will loop forever until the user types 'quit'"
      ],
      "metadata": {
        "id": "JHHMYhY_QDgI"
      },
      "execution_count": null,
      "outputs": []
    },
    {
      "cell_type": "code",
      "source": [
        "#Create a simple calculator\n",
        "#\n",
        "#1. Allow the user to enter a number\n",
        "#2. Let the user choose an operation\n",
        "#3. Allow the user to enter a second number\n",
        "#4. Calculate and show the result\n",
        "#5. Allow the user just to type the word 'quit' to exit the program\n"
      ],
      "metadata": {
        "id": "AZl1dD_fPnvO"
      },
      "execution_count": null,
      "outputs": []
    }
  ]
}