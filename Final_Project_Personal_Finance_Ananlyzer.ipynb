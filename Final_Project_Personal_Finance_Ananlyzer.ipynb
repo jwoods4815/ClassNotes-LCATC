{
  "nbformat": 4,
  "nbformat_minor": 0,
  "metadata": {
    "colab": {
      "provenance": [],
      "authorship_tag": "ABX9TyMXUny3BWnAUVlD9wzXAcJp",
      "include_colab_link": true
    },
    "kernelspec": {
      "name": "python3",
      "display_name": "Python 3"
    },
    "language_info": {
      "name": "python"
    }
  },
  "cells": [
    {
      "cell_type": "markdown",
      "metadata": {
        "id": "view-in-github",
        "colab_type": "text"
      },
      "source": [
        "<a href=\"https://colab.research.google.com/github/jwoods4815/ClassNotes-LCATC/blob/main/Final_Project_Personal_Finance_Ananlyzer.ipynb\" target=\"_parent\"><img src=\"https://colab.research.google.com/assets/colab-badge.svg\" alt=\"Open In Colab\"/></a>"
      ]
    },
    {
      "cell_type": "markdown",
      "source": [
        "###End of Year Project - Personal Finance Analyzer\n",
        "Create a personal finance analyzer that can read from CSV data and produce reports and graphs.\n",
        "\n",
        "\n",
        "---\n",
        "1. What is a CSV file?\n",
        "  - Comma-separated values (CSV) is a text file format that uses commas to separate values, and newlines to separate records.\n",
        "2. Briefly explain the pandas library and how you will be using it.\n",
        "  - pandas is a fast, powerful, flexible and easy to use open source data analysis and manipulation tool,\n",
        "built on top of the Python programming language.\n"
      ],
      "metadata": {
        "id": "HEydhh5KScQ3"
      }
    },
    {
      "cell_type": "code",
      "execution_count": null,
      "metadata": {
        "id": "Mc5k-wrLSPQ8",
        "colab": {
          "base_uri": "https://localhost:8080/"
        },
        "outputId": "8faae6bd-1251-44cd-e18a-70ddcfee2c38"
      },
      "outputs": [
        {
          "output_type": "stream",
          "name": "stdout",
          "text": [
            "         date  amount    category          description\n",
            "0  2023-07-01   84.55   Groceries               Costco\n",
            "1  2023-07-01   99.56   Groceries               Costco\n",
            "2  2023-07-02  115.84       Bills  Con Edison Electric\n",
            "3  2023-07-02   18.92  Dining Out             Chipotle\n",
            "4  2023-07-03   68.14   Groceries               Costco\n"
          ]
        }
      ],
      "source": [
        "import pandas as pd #imports the pandas library\n",
        "\n",
        "#Load raw file from github\n",
        "url = 'https://raw.githubusercontent.com/jwoods4815/Final-Programming-Project/refs/heads/main/transactions_500.csv'\n",
        "df = pd.read_csv(url)\n",
        "\n",
        "print(df.head())"
      ]
    },
    {
      "cell_type": "markdown",
      "source": [],
      "metadata": {
        "id": "Q_MPuwCgdroO"
      }
    },
    {
      "cell_type": "code",
      "source": [
        "df.columns"
      ],
      "metadata": {
        "colab": {
          "base_uri": "https://localhost:8080/"
        },
        "id": "wxbA-wML6SrZ",
        "outputId": "b5e93311-b6a8-4738-cf63-b7ffcb4fc97f"
      },
      "execution_count": null,
      "outputs": [
        {
          "output_type": "execute_result",
          "data": {
            "text/plain": [
              "Index(['date', 'amount', 'category', 'description'], dtype='object')"
            ]
          },
          "metadata": {},
          "execution_count": 2
        }
      ]
    },
    {
      "cell_type": "code",
      "source": [
        "catList = df['category'].unique()\n",
        "\n",
        "print(f'There are {len(catList)} unique items in the \"category\" column.')\n",
        "print(catList)\n"
      ],
      "metadata": {
        "colab": {
          "base_uri": "https://localhost:8080/"
        },
        "id": "6DVTGs2aeUZD",
        "outputId": "775d2111-ca43-4b7b-ebe9-ac77009a9fac"
      },
      "execution_count": null,
      "outputs": [
        {
          "output_type": "stream",
          "name": "stdout",
          "text": [
            "There are 5 unique items in the \"category\" column.\n",
            "['Groceries' 'Bills' 'Dining Out' 'Online Stores' 'Subscriptions']\n"
          ]
        }
      ]
    },
    {
      "cell_type": "code",
      "source": [
        "print(\"Data frame layout\")\n",
        "print(df)\n",
        "print(\"-\" * 100)\n",
        "print(\"-\" * 100)\n",
        "print(\" \")\n",
        "\n",
        "for columns, content in df.items():\n",
        "  print(f\"Data Label: {columns}\")\n",
        "  print(f'Contents of rows: \\n{content}')\n",
        "  print(\"-\" * 100)"
      ],
      "metadata": {
        "id": "LDjr0BRn1mtg",
        "collapsed": true
      },
      "execution_count": null,
      "outputs": []
    },
    {
      "cell_type": "code",
      "source": [
        "#Finding totals for each column\n",
        "for item in catList:\n",
        "  print(item)\n",
        "  sumOfCategory = df[df['category'] == item].sum(numeric_only=True)\n",
        "  print(sumOfCategory)\n",
        "  print(\"-\" * 100)"
      ],
      "metadata": {
        "colab": {
          "base_uri": "https://localhost:8080/"
        },
        "id": "7my4y_TV6K5O",
        "outputId": "3ac32900-856c-4153-ad4b-dcbea83dee95"
      },
      "execution_count": null,
      "outputs": [
        {
          "output_type": "stream",
          "name": "stdout",
          "text": [
            "Groceries\n",
            "amount    8814.99\n",
            "dtype: float64\n",
            "----------------------------------------------------------------------------------------------------\n",
            "Bills\n",
            "amount    14437.18\n",
            "dtype: float64\n",
            "----------------------------------------------------------------------------------------------------\n",
            "Dining Out\n",
            "amount    2234.25\n",
            "dtype: float64\n",
            "----------------------------------------------------------------------------------------------------\n",
            "Online Stores\n",
            "amount    13351.51\n",
            "dtype: float64\n",
            "----------------------------------------------------------------------------------------------------\n",
            "Subscriptions\n",
            "amount    1184.18\n",
            "dtype: float64\n",
            "----------------------------------------------------------------------------------------------------\n"
          ]
        }
      ]
    },
    {
      "cell_type": "markdown",
      "source": [
        "##Charts and Graphs with \"matplotlib\""
      ],
      "metadata": {
        "id": "xJkivABz8jTi"
      }
    },
    {
      "cell_type": "code",
      "source": [
        "#import the matplotlib library\n",
        "import matplotlib.pyplot as plt\n"
      ],
      "metadata": {
        "id": "TrIXQmcc8ndi"
      },
      "execution_count": null,
      "outputs": []
    },
    {
      "cell_type": "markdown",
      "source": [
        "##Creating the chart\n",
        "Take a look at the example code to create a pie chart below. *What could be changed to make the chart show our financial data?*\n",
        "\n"
      ],
      "metadata": {
        "id": "pa7wEFDo9iFn"
      }
    },
    {
      "cell_type": "code",
      "source": [
        "#Create the a pie chart\n",
        "\n",
        "# Data for the pie chart\n",
        "labels = ['Category A', 'Category B', 'Category C', 'Category D']\n",
        "sizes = [15, 30, 45, 10]\n",
        "colors = ['gold', 'yellowgreen', 'lightcoral', 'lightskyblue']\n",
        "explode = (0, 0.1, 0, 0)  # explode 2nd slice\n",
        "\n",
        "# Plot\n",
        "plt.pie(sizes, explode=explode, labels=labels, colors=colors, autopct='%1.1f%%', shadow=True, startangle=140)\n",
        "\n",
        "plt.axis('equal')  # Equal aspect ratio ensures that pie is drawn as a circle.\n",
        "plt.title('Sample Pie Chart')\n",
        "plt.show()"
      ],
      "metadata": {
        "colab": {
          "base_uri": "https://localhost:8080/",
          "height": 428
        },
        "id": "Bgm6rNPs8ypg",
        "outputId": "21da64d7-826b-4faf-e319-afa921393040"
      },
      "execution_count": 10,
      "outputs": [
        {
          "output_type": "display_data",
          "data": {
            "text/plain": [
              "<Figure size 640x480 with 1 Axes>"
            ],
            "image/png": "[encoded data removed]"
          },
          "metadata": {}
        }
      ]
    }
  ]
}