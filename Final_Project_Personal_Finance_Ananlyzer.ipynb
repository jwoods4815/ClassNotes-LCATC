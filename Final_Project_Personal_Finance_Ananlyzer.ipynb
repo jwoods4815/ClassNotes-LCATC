{
  "nbformat": 4,
  "nbformat_minor": 0,
  "metadata": {
    "colab": {
      "provenance": [],
      "mount_file_id": "1FK9VsaD7JNa-xow2cuHZPcpx0neDAi-K",
      "authorship_tag": "ABX9TyPZ0tRspbLnypLZSPgglZNn",
      "include_colab_link": true
    },
    "kernelspec": {
      "name": "python3",
      "display_name": "Python 3"
    },
    "language_info": {
      "name": "python"
    }
  },
  "cells": [
    {
      "cell_type": "markdown",
      "metadata": {
        "id": "view-in-github",
        "colab_type": "text"
      },
      "source": [
        "<a href=\"https://colab.research.google.com/github/jwoods4815/ClassNotes-LCATC/blob/main/Final_Project_Personal_Finance_Ananlyzer.ipynb\" target=\"_parent\"><img src=\"https://colab.research.google.com/assets/colab-badge.svg\" alt=\"Open In Colab\"/></a>"
      ]
    },
    {
      "cell_type": "markdown",
      "source": [
        "###End of Year Project - Personal Finance Analyzer\n",
        "Create a personal finance analyzer that can read from CSV data and produce reports and graphs.\n",
        "\n",
        "\n",
        "---\n",
        "1. What is a CSV file?\n",
        "  - Comma-separated values (CSV) is a text file format that uses commas to separate values, and newlines to separate records.\n",
        "2. Briefly explain the pandas library and how you will be using it.\n",
        "  - pandas is a fast, powerful, flexible and easy to use open source data analysis and manipulation tool,\n",
        "built on top of the Python programming language.\n"
      ],
      "metadata": {
        "id": "HEydhh5KScQ3"
      }
    },
    {
      "cell_type": "code",
      "execution_count": null,
      "metadata": {
        "id": "Mc5k-wrLSPQ8",
        "colab": {
          "base_uri": "https://localhost:8080/"
        },
        "outputId": "803cea60-9664-4af5-8275-a9c72b2fd6a7"
      },
      "outputs": [
        {
          "output_type": "stream",
          "name": "stdout",
          "text": [
            "         date  amount    category          description\n",
            "0  2023-07-01   84.55   Groceries               Costco\n",
            "1  2023-07-01   99.56   Groceries               Costco\n",
            "2  2023-07-02  115.84       Bills  Con Edison Electric\n",
            "3  2023-07-02   18.92  Dining Out             Chipotle\n",
            "4  2023-07-03   68.14   Groceries               Costco\n"
          ]
        }
      ],
      "source": [
        "import pandas as pd #imports the pandas library\n",
        "from google.colab import drive #imports the colab library for google drive\n",
        "\n",
        "#Load raw file from github\n",
        "url = 'https://raw.githubusercontent.com/jwoods4815/Final-Programming-Project/refs/heads/main/transactions_500.csv'\n",
        "df = pd.read_csv(url)\n",
        "\n",
        "print(df.head())"
      ]
    },
    {
      "cell_type": "markdown",
      "source": [],
      "metadata": {
        "id": "Q_MPuwCgdroO"
      }
    },
    {
      "cell_type": "code",
      "source": [
        "a = df['category'].unique()\n",
        "print(a)"
      ],
      "metadata": {
        "colab": {
          "base_uri": "https://localhost:8080/"
        },
        "id": "6DVTGs2aeUZD",
        "outputId": "7e12180d-6d37-45a0-9e3b-d174f04d29bd"
      },
      "execution_count": null,
      "outputs": [
        {
          "output_type": "stream",
          "name": "stdout",
          "text": [
            "<class 'numpy.ndarray'>\n"
          ]
        }
      ]
    },
    {
      "cell_type": "code",
      "source": [
        "#Finding totals for each column\n",
        "for item in a:\n",
        "  print(item)\n",
        "  sumOfCategory = df[df['category'] == item].sum(numeric_only=True)\n",
        "  print(sumOfCategory)\n",
        "  print(\"-\" * 100)"
      ],
      "metadata": {
        "colab": {
          "base_uri": "https://localhost:8080/"
        },
        "id": "7my4y_TV6K5O",
        "outputId": "ee0774b8-88e1-4414-9238-bdc69bc2fbb1"
      },
      "execution_count": null,
      "outputs": [
        {
          "output_type": "stream",
          "name": "stdout",
          "text": [
            "Groceries\n",
            "amount    8814.99\n",
            "dtype: float64\n",
            "----------------------------------------------------------------------------------------------------\n",
            "Bills\n",
            "amount    14437.18\n",
            "dtype: float64\n",
            "----------------------------------------------------------------------------------------------------\n",
            "Dining Out\n",
            "amount    2234.25\n",
            "dtype: float64\n",
            "----------------------------------------------------------------------------------------------------\n",
            "Online Stores\n",
            "amount    13351.51\n",
            "dtype: float64\n",
            "----------------------------------------------------------------------------------------------------\n",
            "Subscriptions\n",
            "amount    1184.18\n",
            "dtype: float64\n",
            "----------------------------------------------------------------------------------------------------\n"
          ]
        }
      ]
    }
  ]
}