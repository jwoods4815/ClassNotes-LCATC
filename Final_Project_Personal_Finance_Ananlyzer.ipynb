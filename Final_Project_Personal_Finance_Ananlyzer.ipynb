{
  "nbformat": 4,
  "nbformat_minor": 0,
  "metadata": {
    "colab": {
      "provenance": [],
      "mount_file_id": "1FK9VsaD7JNa-xow2cuHZPcpx0neDAi-K",
      "authorship_tag": "ABX9TyNLysQLdfcexOymqUJdVPZA",
      "include_colab_link": true
    },
    "kernelspec": {
      "name": "python3",
      "display_name": "Python 3"
    },
    "language_info": {
      "name": "python"
    }
  },
  "cells": [
    {
      "cell_type": "markdown",
      "metadata": {
        "id": "view-in-github",
        "colab_type": "text"
      },
      "source": [
        "<a href=\"https://colab.research.google.com/github/jwoods4815/ClassNotes-LCATC/blob/main/Final_Project_Personal_Finance_Ananlyzer.ipynb\" target=\"_parent\"><img src=\"https://colab.research.google.com/assets/colab-badge.svg\" alt=\"Open In Colab\"/></a>"
      ]
    },
    {
      "cell_type": "markdown",
      "source": [
        "###End of Year Project - Personal Finance Analyzer\n",
        "Create a personal finance analyzer that can read from CSV data and produce reports and graphs.\n",
        "\n",
        "\n",
        "---\n",
        "1. What is a CSV file?\n",
        "  - Comma-separated values (CSV) is a text file format that uses commas to separate values, and newlines to separate records.\n",
        "2. Briefly explain the pandas library and how you will be using it.\n",
        "  - pandas is a fast, powerful, flexible and easy to use open source data analysis and manipulation tool,\n",
        "built on top of the Python programming language.\n"
      ],
      "metadata": {
        "id": "HEydhh5KScQ3"
      }
    },
    {
      "cell_type": "code",
      "execution_count": 1,
      "metadata": {
        "id": "Mc5k-wrLSPQ8",
        "colab": {
          "base_uri": "https://localhost:8080/"
        },
        "outputId": "fac55ac7-7c6f-4d14-b8c7-5915ec8f7694"
      },
      "outputs": [
        {
          "output_type": "stream",
          "name": "stdout",
          "text": [
            "Drive already mounted at /content/drive; to attempt to forcibly remount, call drive.mount(\"/content/drive\", force_remount=True).\n",
            "         date  amount    category          description\n",
            "0  2023-07-01   84.55   Groceries               Costco\n",
            "1  2023-07-01   99.56   Groceries               Costco\n",
            "2  2023-07-02  115.84       Bills  Con Edison Electric\n",
            "3  2023-07-02   18.92  Dining Out             Chipotle\n",
            "4  2023-07-03   68.14   Groceries               Costco\n"
          ]
        }
      ],
      "source": [
        "import pandas as pd #imports the pandas library\n",
        "from google.colab import drive #imports the colab library for google drive\n",
        "\n",
        "#activate the google drive as a filesystem\n",
        "drive.mount('/content/drive')\n",
        "file_path = '/content/drive/MyDrive/pydata/transactions_500.csv'\n",
        "\n",
        "df = pd.read_csv(file_path)\n",
        "\n",
        "print(df.head())"
      ]
    }
  ]
}